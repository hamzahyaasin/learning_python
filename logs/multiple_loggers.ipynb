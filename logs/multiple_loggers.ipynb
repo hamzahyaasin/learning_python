{
 "cells": [
  {
   "cell_type": "markdown",
   "metadata": {},
   "source": [
    "### Logging with Multiple Loggers\n",
    "#### You can create multiple loggers for different parts of your application"
   ]
  },
  {
   "cell_type": "code",
   "execution_count": 1,
   "metadata": {},
   "outputs": [],
   "source": [
    "import logging\n",
    "\n",
    "logger1 = logging.getLogger('logger1')\n",
    "logger1.setLevel(logging.DEBUG)\n",
    "\n",
    "#logger for module 2\n",
    "\n",
    "logger2=logging.getLogger('logger2')\n",
    "logger2.setLevel(logging.WARNING)\n",
    "\n",
    "#configure logging settings\n",
    "logging.basicConfig(level=logging.DEBUG,\n",
    "                    format='%(asctime)s - %(name)s - %(levelname)s - %(message)s',\n",
    "                    datefmt='%Y-%m-%d %H:%M:%S')"
   ]
  },
  {
   "cell_type": "code",
   "execution_count": 2,
   "metadata": {},
   "outputs": [
    {
     "name": "stderr",
     "output_type": "stream",
     "text": [
      "2024-09-19 01:04:24 - logger1 - DEBUG - This is a debug message for module 1\n",
      "2024-09-19 01:04:24 - logger2 - WARNING - This is a warning message for module 2\n",
      "2024-09-19 01:04:24 - logger2 - ERROR - This is an error message for module 2\n"
     ]
    }
   ],
   "source": [
    "## log messages with different loggers\n",
    "\n",
    "logger1.debug('This is a debug message for module 1')\n",
    "logger2.warning('This is a warning message for module 2')\n",
    "logger2.error('This is an error message for module 2')"
   ]
  },
  {
   "cell_type": "code",
   "execution_count": null,
   "metadata": {},
   "outputs": [],
   "source": []
  }
 ],
 "metadata": {
  "kernelspec": {
   "display_name": "base",
   "language": "python",
   "name": "python3"
  },
  "language_info": {
   "codemirror_mode": {
    "name": "ipython",
    "version": 3
   },
   "file_extension": ".py",
   "mimetype": "text/x-python",
   "name": "python",
   "nbconvert_exporter": "python",
   "pygments_lexer": "ipython3",
   "version": "3.12.4"
  }
 },
 "nbformat": 4,
 "nbformat_minor": 2
}
