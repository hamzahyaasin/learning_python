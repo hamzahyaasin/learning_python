{
 "cells": [
  {
   "cell_type": "markdown",
   "metadata": {},
   "source": [
    "#### A python function to create a logger with a custom log message format tht includes timestamp, logging level and message."
   ]
  },
  {
   "cell_type": "code",
   "execution_count": 2,
   "metadata": {},
   "outputs": [
    {
     "name": "stderr",
     "output_type": "stream",
     "text": [
      "2024-09-19 02:13:01,475 - DEBUG - This is a debug message\n",
      "2024-09-19 02:13:01,475 - DEBUG - This is a debug message\n",
      "2024-09-19 02:13:01,478 - INFO - This is an info message\n",
      "2024-09-19 02:13:01,478 - INFO - This is an info message\n",
      "2024-09-19 02:13:01,480 - WARNING - This is a warning message\n",
      "2024-09-19 02:13:01,480 - WARNING - This is a warning message\n",
      "2024-09-19 02:13:01,485 - ERROR - This is an error message\n",
      "2024-09-19 02:13:01,485 - ERROR - This is an error message\n",
      "2024-09-19 02:13:01,488 - CRITICAL - This is a critical message\n",
      "2024-09-19 02:13:01,488 - CRITICAL - This is a critical message\n"
     ]
    }
   ],
   "source": [
    "import logging\n",
    "\n",
    "def logger_with_custom_format():\n",
    "    logger = logging.getLogger('custom_logger')\n",
    "    logger.setLevel(logging.DEBUG)\n",
    "    \n",
    "    file_handler = logging.FileHandler('custom_app.log')\n",
    "    console_handler = logging.StreamHandler()\n",
    "    \n",
    "    formatter = logging.Formatter('%(asctime)s - %(levelname)s - %(message)s')\n",
    "    file_handler.setFormatter(formatter)\n",
    "    console_handler.setFormatter(formatter)\n",
    "    \n",
    "    logger.addHandler(file_handler)\n",
    "    logger.addHandler(console_handler)\n",
    "    \n",
    "    logger.debug('This is a debug message')\n",
    "    logger.info('This is an info message')\n",
    "    logger.warning('This is a warning message')\n",
    "    logger.error('This is an error message')\n",
    "    logger.critical('This is a critical message')\n",
    "\n",
    "# Test the function\n",
    "logger_with_custom_format()"
   ]
  },
  {
   "cell_type": "markdown",
   "metadata": {},
   "source": [
    "#### Modifying the function to use differnet formats for file and console handler"
   ]
  },
  {
   "cell_type": "code",
   "execution_count": 3,
   "metadata": {},
   "outputs": [
    {
     "name": "stderr",
     "output_type": "stream",
     "text": [
      "2024-09-19 02:14:42,731 - DEBUG - This is a debug message\n",
      "2024-09-19 02:14:42,732 - INFO - This is an info message\n",
      "2024-09-19 02:14:42,734 - WARNING - This is a warning message\n",
      "2024-09-19 02:14:42,736 - ERROR - This is an error message\n",
      "2024-09-19 02:14:42,737 - CRITICAL - This is a critical message\n"
     ]
    }
   ],
   "source": [
    "def logger_with_different_formats():\n",
    "    logger = logging.getLogger('multi_format_logger')\n",
    "    logger.setLevel(logging.DEBUG)\n",
    "    \n",
    "    file_handler = logging.FileHandler('multi_format_app.log')\n",
    "    console_handler = logging.StreamHandler()\n",
    "    \n",
    "    file_formatter = logging.Formatter('%(asctime)s - %(name)s - %(levelname)s - %(message)s')\n",
    "    console_formatter = logging.Formatter('%(asctime)s - %(levelname)s - %(message)s')\n",
    "    file_handler.setFormatter(file_formatter)\n",
    "    console_handler.setFormatter(console_formatter)\n",
    "    \n",
    "    logger.addHandler(file_handler)\n",
    "    logger.addHandler(console_handler)\n",
    "    \n",
    "    logger.debug('This is a debug message')\n",
    "    logger.info('This is an info message')\n",
    "    logger.warning('This is a warning message')\n",
    "    logger.error('This is an error message')\n",
    "    logger.critical('This is a critical message')\n",
    "\n",
    "# Test the function\n",
    "logger_with_different_formats()"
   ]
  },
  {
   "cell_type": "code",
   "execution_count": null,
   "metadata": {},
   "outputs": [],
   "source": []
  }
 ],
 "metadata": {
  "kernelspec": {
   "display_name": "base",
   "language": "python",
   "name": "python3"
  },
  "language_info": {
   "codemirror_mode": {
    "name": "ipython",
    "version": 3
   },
   "file_extension": ".py",
   "mimetype": "text/x-python",
   "name": "python",
   "nbconvert_exporter": "python",
   "pygments_lexer": "ipython3",
   "version": "3.12.4"
  }
 },
 "nbformat": 4,
 "nbformat_minor": 2
}
