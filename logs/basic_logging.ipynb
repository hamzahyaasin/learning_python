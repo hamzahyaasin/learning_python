{
 "cells": [
  {
   "cell_type": "markdown",
   "metadata": {},
   "source": [
    "### A python function to create a basic logger that logs messages to a file named app.log"
   ]
  },
  {
   "cell_type": "code",
   "execution_count": 2,
   "metadata": {},
   "outputs": [],
   "source": [
    "import logging\n",
    "\n",
    "def basic_logger():\n",
    "    logging.basicConfig(filename='app.log', level=logging.DEBUG)\n",
    "    logging.debug('This is a debug message')\n",
    "    logging.info('This is an info message')\n",
    "    logging.warning('This is a warning message')\n",
    "    logging.error('This is an error message')\n",
    "    logging.critical('This is a critical message')\n",
    "\n",
    "# Test the function\n",
    "basic_logger()"
   ]
  },
  {
   "cell_type": "code",
   "execution_count": null,
   "metadata": {},
   "outputs": [],
   "source": []
  }
 ],
 "metadata": {
  "kernelspec": {
   "display_name": "base",
   "language": "python",
   "name": "python3"
  },
  "language_info": {
   "codemirror_mode": {
    "name": "ipython",
    "version": 3
   },
   "file_extension": ".py",
   "mimetype": "text/x-python",
   "name": "python",
   "nbconvert_exporter": "python",
   "pygments_lexer": "ipython3",
   "version": "3.12.4"
  }
 },
 "nbformat": 4,
 "nbformat_minor": 2
}
